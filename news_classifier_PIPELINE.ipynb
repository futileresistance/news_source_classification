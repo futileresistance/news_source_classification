{
 "cells": [
  {
   "cell_type": "code",
   "execution_count": 1,
   "metadata": {},
   "outputs": [],
   "source": [
    "from catboost import CatBoostClassifier\n",
    "from bs4 import BeautifulSoup\n",
    "import pandas as pd\n",
    "import numpy as np\n",
    "import requests\n",
    "import re\n",
    "import pickle\n",
    "import warnings\n",
    "warnings.filterwarnings('ignore')"
   ]
  },
  {
   "cell_type": "code",
   "execution_count": 22,
   "metadata": {},
   "outputs": [],
   "source": [
    "def mean_li(soup):\n",
    "    lis = []\n",
    "    for item in soup.find_all('ul'):\n",
    "        new_bs = BeautifulSoup(str(item))\n",
    "        lis_num = len(new_bs.find_all('li'))\n",
    "        if lis_num:\n",
    "            lis.append(lis_num)\n",
    "    if lis:\n",
    "        return int(np.mean(lis))\n",
    "    else:\n",
    "        return 0\n",
    "def href_counter(html_page):\n",
    "\n",
    "    urls = re.findall(r'href=[\\'\"]?([^\\'\" >]+)', html_page.text)\n",
    "    pattern = r'.php|css|json|xml|mailto|jpg|png|jpeg'\n",
    "    filtered = [val for val in urls if not re.search(pattern, val)]\n",
    "\n",
    "    return len(filtered)\n",
    "def get_feats(soup_page):\n",
    "    \n",
    "    news_pat = r'<.*news.*>'\n",
    "    a_and_p_pat = r'<a.*>[\\S\\n\\t\\v ]?<p'\n",
    "    div_and_h_pat = r'<div.*>[\\S\\n\\t\\v ]?<h.?'\n",
    "    a_and_div_pat = r'<a.*>[\\S\\n\\t\\v ]?<div'\n",
    "    h_and_a_pat = r'<h.*>[\\S\\n\\t\\v ]?<a'\n",
    "    img_and_a_pat = r'<img.*>[\\S\\n\\t\\v ]?<a'\n",
    "    ###\n",
    "    a_counter = len(soup_page.find_all('a'))\n",
    "    div_counter = len(soup_page.find_all('div'))\n",
    "    li_counter = len(soup_page.find_all('li'))\n",
    "    ul_counter = len(soup_page.find_all('ul'))\n",
    "    nav_counter = len(soup_page.find_all('nav'))\n",
    "    ###\n",
    "    script_counter = len(soup_page.find_all('script'))\n",
    "    h_counter = len(soup_page.find_all('h'))\n",
    "    h1_counter = len(soup_page.find_all('h1'))\n",
    "    h2_counter = len(soup_page.find_all('h2'))\n",
    "    img_counter = len(soup_page.find_all('img'))\n",
    "    ###\n",
    "    p_counter = len(soup_page.find_all('p'))\n",
    "    link_counter = len(soup_page.find_all('link'))\n",
    "    button_counter = len(soup_page.find_all('button'))\n",
    "    span_counter = len(soup_page.find_all('span'))\n",
    "    ###\n",
    "    li_mean = mean_li(soup_page)\n",
    "    href_count = href_counter(soup_page)\n",
    "    ###\n",
    "    news_counter = len(re.findall(news_pat, str(soup_page.html)))\n",
    "    a_and_p_regex = len(re.findall(a_and_p_pat, str(soup_page.html)))\n",
    "    div_and_h_regex = len(re.findall(div_and_h_pat, str(soup_page.html)))\n",
    "    a_and_div_regex = len(re.findall(a_and_div_pat, str(soup_page.html)))\n",
    "    h_and_a_regex = len(re.findall(h_and_a_pat, str(soup_page.html)))\n",
    "    img_and_a_regex = len(re.findall(img_and_a_pat, str(soup_page.html)))\n",
    "    \n",
    "    return [a_counter, div_counter, li_counter, ul_counter,nav_counter,\\\n",
    "            script_counter,h_counter,h1_counter,h2_counter,img_counter,\\\n",
    "            p_counter,link_counter,button_counter,span_counter,\\\n",
    "           li_mean,href_count,\\\n",
    "           news_counter, a_and_p_regex,div_and_h_regex,a_and_div_regex,h_and_a_regex,img_and_a_regex]\n",
    "def get_pattern(page):\n",
    "    pat = r'title=\"([\\S\\n\\t\\v ]*?)\"'\n",
    "    items = re.findall(pat, str(page.html))\n",
    "    new_items = set(items)\n",
    "    return list(new_items)\n",
    "len_2 = lambda x: True if len(x) else False\n",
    "len_3 = lambda x: True if len(x)>2 else False\n",
    "def remove_special_characters(text):\n",
    "    # define the pattern to keep\n",
    "    pat = r'[^a-zA-z0-9а-яА-я.,!?/:;\\\"\\'\\s)(«»]' \n",
    "    return re.sub(pat, '', text.lower())\n",
    "def make_words_list(items):\n",
    "    words = []\n",
    "    for item in items:\n",
    "        word_list = item.split()\n",
    "        words.extend(word_list)\n",
    "    return list(set(words))\n",
    "def get_title_text(soup_page):\n",
    "    items = get_pattern(soup_page)\n",
    "    items = list(map(remove_special_characters, items))\n",
    "    words = make_words_list(items)\n",
    "    return list(filter(len_3,words[:300]))\n",
    "def get_img_text(soup):\n",
    "    imgs = soup.find_all('img')\n",
    "    cleaned = re.sub(r'[\\n\\t\\d\\.\\-)(\"«»]', ' ', soup.text)\n",
    "    texts = ' '.join(cleaned.split()).lower().split()\n",
    "    return list(filter(len_3,texts[:300]))\n",
    "def clean_html(soup):\n",
    "    cleaned = re.sub(r'[\\n\\t\\.)(]', ' ', str(soup.html))\n",
    "    cleaned = ' '.join(cleaned.split())\n",
    "    return cleaned"
   ]
  },
  {
   "cell_type": "code",
   "execution_count": 26,
   "metadata": {},
   "outputs": [],
   "source": [
    "def get_html_and_text_data(url):\n",
    "    headers = {'User-Agent': 'Mozilla/5.0 (Macintosh; Intel Mac OS X 10_11_5) AppleWebKit/537.36 (KHTML, like Gecko) Chrome/50.0.2661.102 Safari/537.36'}\n",
    "    max_html_size = 100000\n",
    "    if url[:4] != 'http':\n",
    "        url = 'https://' + url\n",
    "    try:\n",
    "        page = requests.get(url, verify = False, timeout = 10, headers=headers)\n",
    "    except:\n",
    "        print('request failed',idx, url,'--'*10)\n",
    "    soup = BeautifulSoup(page.text)\n",
    "    soup = BeautifulSoup(clean_html(soup))\n",
    "    string_power = len(str(soup.html))\n",
    "    if string_power > max_html_size:\n",
    "        soup = BeautifulSoup(str(soup.html)[:max_html_size])\n",
    "    html_feats = get_feats(soup)\n",
    "    title_text = get_title_text(soup)\n",
    "    image_text = get_img_text(soup)\n",
    "    return html_feats, title_text+image_text"
   ]
  },
  {
   "cell_type": "code",
   "execution_count": 43,
   "metadata": {},
   "outputs": [],
   "source": [
    "def prepare_html_feats(html_feats):\n",
    "    html_feats = np.array(html_feats)\n",
    "    html_feats = np.reshape(np.expand_dims(html_feats,-1), (1,22))\n",
    "    return html_feats"
   ]
  },
  {
   "cell_type": "code",
   "execution_count": 44,
   "metadata": {},
   "outputs": [],
   "source": [
    "def prepare_text_feats(text, countvect, tfidf):\n",
    "    text = ' '.join(text)\n",
    "    transformed_test = countvect.transform([text])\n",
    "    text_feats = np.array(tfidf.transform(transformed_test).todense())\n",
    "    return text_feats"
   ]
  },
  {
   "cell_type": "code",
   "execution_count": 45,
   "metadata": {},
   "outputs": [],
   "source": [
    "def make_predict(model, text_feats,tag_feats):\n",
    "    vec = np.hstack([text_feats,tag_feats])\n",
    "    pred = model.predict_proba(vec)\n",
    "    return pred"
   ]
  },
  {
   "cell_type": "code",
   "execution_count": 50,
   "metadata": {},
   "outputs": [],
   "source": [
    "def predict_pipeline(url, model, counter, tfidf):\n",
    "    tags, texts = get_html_and_text_data(url)\n",
    "    tags = prepare_html_feats(tags) \n",
    "    texts = prepare_text_feats(texts,counter,tfidf)\n",
    "    prediction = make_predict(model, texts,tags)\n",
    "    return prediction"
   ]
  },
  {
   "cell_type": "code",
   "execution_count": 2,
   "metadata": {},
   "outputs": [],
   "source": [
    "countvectorizer_NEWS = pickle.load(open(\"countvectorizer_NEWS.pickle\", \"rb\"))\n",
    "tfidf_NEWS = pickle.load(open(\"tfidf_NEWS.pickle\", \"rb\"))"
   ]
  },
  {
   "cell_type": "code",
   "execution_count": 4,
   "metadata": {},
   "outputs": [],
   "source": [
    "transformed_test = countvectorizer_NEWS.transform(['новости'])\n",
    "test_tfidf = np.array(tfidf_NEWS.transform(transformed_test).todense())"
   ]
  },
  {
   "cell_type": "code",
   "execution_count": 14,
   "metadata": {},
   "outputs": [
    {
     "data": {
      "text/plain": [
       "<catboost.core.CatBoostClassifier at 0x1a25d3f6d0>"
      ]
     },
     "execution_count": 14,
     "metadata": {},
     "output_type": "execute_result"
    }
   ],
   "source": [
    "catboost = CatBoostClassifier()      # parameters not required.\n",
    "catboost.load_model('catboost_model_news_class')"
   ]
  },
  {
   "cell_type": "code",
   "execution_count": 36,
   "metadata": {},
   "outputs": [],
   "source": [
    "data = pd.read_csv('SOURCE_NEWS_LINKS.csv')"
   ]
  },
  {
   "cell_type": "code",
   "execution_count": 37,
   "metadata": {},
   "outputs": [
    {
     "data": {
      "text/html": [
       "<div>\n",
       "<style scoped>\n",
       "    .dataframe tbody tr th:only-of-type {\n",
       "        vertical-align: middle;\n",
       "    }\n",
       "\n",
       "    .dataframe tbody tr th {\n",
       "        vertical-align: top;\n",
       "    }\n",
       "\n",
       "    .dataframe thead th {\n",
       "        text-align: right;\n",
       "    }\n",
       "</style>\n",
       "<table border=\"1\" class=\"dataframe\">\n",
       "  <thead>\n",
       "    <tr style=\"text-align: right;\">\n",
       "      <th></th>\n",
       "      <th>Unnamed: 0</th>\n",
       "      <th>url_link_source</th>\n",
       "      <th>target</th>\n",
       "    </tr>\n",
       "  </thead>\n",
       "  <tbody>\n",
       "    <tr>\n",
       "      <th>0</th>\n",
       "      <td>0</td>\n",
       "      <td>https://new.rah.ru/events/articles/</td>\n",
       "      <td>1.0</td>\n",
       "    </tr>\n",
       "    <tr>\n",
       "      <th>1</th>\n",
       "      <td>1</td>\n",
       "      <td>https://new.rah.ru/events/news/</td>\n",
       "      <td>1.0</td>\n",
       "    </tr>\n",
       "    <tr>\n",
       "      <th>2</th>\n",
       "      <td>2</td>\n",
       "      <td>https://new.rah.ru/education/novosti_sobytiya/...</td>\n",
       "      <td>1.0</td>\n",
       "    </tr>\n",
       "    <tr>\n",
       "      <th>3</th>\n",
       "      <td>3</td>\n",
       "      <td>https://medkareta.ru/</td>\n",
       "      <td>0.0</td>\n",
       "    </tr>\n",
       "    <tr>\n",
       "      <th>4</th>\n",
       "      <td>4</td>\n",
       "      <td>https://medkareta.ru/news/</td>\n",
       "      <td>1.0</td>\n",
       "    </tr>\n",
       "    <tr>\n",
       "      <th>5</th>\n",
       "      <td>5</td>\n",
       "      <td>https://medkareta.ru/uslugi/</td>\n",
       "      <td>0.0</td>\n",
       "    </tr>\n",
       "    <tr>\n",
       "      <th>6</th>\n",
       "      <td>6</td>\n",
       "      <td>http://autoshinsnab.com/about/news</td>\n",
       "      <td>1.0</td>\n",
       "    </tr>\n",
       "    <tr>\n",
       "      <th>7</th>\n",
       "      <td>7</td>\n",
       "      <td>http://autoshinsnab.com/catalog/</td>\n",
       "      <td>0.0</td>\n",
       "    </tr>\n",
       "    <tr>\n",
       "      <th>8</th>\n",
       "      <td>8</td>\n",
       "      <td>http://autoshinsnab.com/producers</td>\n",
       "      <td>0.0</td>\n",
       "    </tr>\n",
       "    <tr>\n",
       "      <th>9</th>\n",
       "      <td>9</td>\n",
       "      <td>http://autoshinsnab.com/producers/</td>\n",
       "      <td>0.0</td>\n",
       "    </tr>\n",
       "  </tbody>\n",
       "</table>\n",
       "</div>"
      ],
      "text/plain": [
       "   Unnamed: 0                                    url_link_source  target\n",
       "0           0                https://new.rah.ru/events/articles/     1.0\n",
       "1           1                    https://new.rah.ru/events/news/     1.0\n",
       "2           2  https://new.rah.ru/education/novosti_sobytiya/...     1.0\n",
       "3           3                              https://medkareta.ru/     0.0\n",
       "4           4                         https://medkareta.ru/news/     1.0\n",
       "5           5                       https://medkareta.ru/uslugi/     0.0\n",
       "6           6                 http://autoshinsnab.com/about/news     1.0\n",
       "7           7                   http://autoshinsnab.com/catalog/     0.0\n",
       "8           8                  http://autoshinsnab.com/producers     0.0\n",
       "9           9                 http://autoshinsnab.com/producers/     0.0"
      ]
     },
     "execution_count": 37,
     "metadata": {},
     "output_type": "execute_result"
    }
   ],
   "source": [
    "data.head(10)"
   ]
  },
  {
   "cell_type": "code",
   "execution_count": 40,
   "metadata": {},
   "outputs": [],
   "source": [
    "url = 'https://medkareta.ru/news/'"
   ]
  },
  {
   "cell_type": "code",
   "execution_count": 56,
   "metadata": {},
   "outputs": [],
   "source": [
    "asd = predict_pipeline(url, catboost, countvectorizer_NEWS, tfidf_NEWS)"
   ]
  },
  {
   "cell_type": "code",
   "execution_count": 64,
   "metadata": {
    "scrolled": true
   },
   "outputs": [
    {
     "name": "stdout",
     "output_type": "stream",
     "text": [
      "URL: https://new.rah.ru/events/articles/ : news prob: 93%, not news: 6% TRUE: NEWS\n",
      "URL: https://new.rah.ru/events/news/ : news prob: 96%, not news: 3% TRUE: NEWS\n",
      "URL: https://new.rah.ru/education/novosti_sobytiya/index.php : news prob: 95%, not news: 4% TRUE: NEWS\n",
      "URL: https://medkareta.ru/ : news prob: 12%, not news: 87% TRUE: NOT NEWS\n",
      "URL: https://medkareta.ru/news/ : news prob: 81%, not news: 18% TRUE: NEWS\n",
      "URL: https://medkareta.ru/uslugi/ : news prob: 27%, not news: 72% TRUE: NOT NEWS\n",
      "URL: http://autoshinsnab.com/about/news : news prob: 77%, not news: 22% TRUE: NEWS\n",
      "URL: http://autoshinsnab.com/catalog/ : news prob: 25%, not news: 74% TRUE: NOT NEWS\n",
      "URL: http://autoshinsnab.com/producers : news prob: 24%, not news: 75% TRUE: NOT NEWS\n",
      "URL: http://autoshinsnab.com/producers/ : news prob: 24%, not news: 75% TRUE: NOT NEWS\n"
     ]
    }
   ],
   "source": [
    "for idx, row in data[:10].iterrows():\n",
    "    url = row.url_link_source\n",
    "    y_true = row.target\n",
    "    result = 'NEWS' if y_true else 'NOT NEWS'\n",
    "    zero_prob, one_prob = predict_pipeline(url, catboost, countvectorizer_NEWS, tfidf_NEWS)[0]\n",
    "    print(f\"URL: {url} : news prob: {int(100*one_prob)}%, not news: {int(100*zero_prob)}% TRUE: {result}\")"
   ]
  },
  {
   "cell_type": "code",
   "execution_count": 65,
   "metadata": {},
   "outputs": [
    {
     "name": "stdout",
     "output_type": "stream",
     "text": [
      "URL: lenta.ru : news prob: 91%, not news: 8% TRUE: NEWS\n",
      "URL: tjournal.ru : news prob: 54%, not news: 45% TRUE: NEWS\n",
      "URL: meduza.io : news prob: 77%, not news: 22% TRUE: NEWS\n"
     ]
    }
   ],
   "source": [
    "urls = ['lenta.ru', 'tjournal.ru', 'meduza.io']\n",
    "for url in urls:\n",
    "    y_true = 1\n",
    "    result = 'NEWS' if y_true else 'NOT NEWS'\n",
    "    zero_prob, one_prob = predict_pipeline(url, catboost, countvectorizer_NEWS, tfidf_NEWS)[0]\n",
    "    print(f\"URL: {url} : news prob: {int(100*one_prob)}%, not news: {int(100*zero_prob)}% TRUE: {result}\")"
   ]
  },
  {
   "cell_type": "code",
   "execution_count": 66,
   "metadata": {},
   "outputs": [
    {
     "name": "stdout",
     "output_type": "stream",
     "text": [
      "URL: ozon.ru : news prob: 5%, not news: 94% TRUE: NOT NEWS\n",
      "URL: livetex.ru/ : news prob: 58%, not news: 41% TRUE: NOT NEWS\n",
      "URL: www.kiprinform.com/ : news prob: 74%, not news: 25% TRUE: NOT NEWS\n"
     ]
    }
   ],
   "source": [
    "urls = ['ozon.ru', 'livetex.ru/', 'www.kiprinform.com/']\n",
    "for url in urls:\n",
    "    y_true = 0\n",
    "    result = 'NEWS' if y_true else 'NOT NEWS'\n",
    "    zero_prob, one_prob = predict_pipeline(url, catboost, countvectorizer_NEWS, tfidf_NEWS)[0]\n",
    "    print(f\"URL: {url} : news prob: {int(100*one_prob)}%, not news: {int(100*zero_prob)}% TRUE: {result}\")"
   ]
  },
  {
   "cell_type": "code",
   "execution_count": null,
   "metadata": {},
   "outputs": [],
   "source": []
  }
 ],
 "metadata": {
  "kernelspec": {
   "display_name": "Python 3",
   "language": "python",
   "name": "python3"
  },
  "language_info": {
   "codemirror_mode": {
    "name": "ipython",
    "version": 3
   },
   "file_extension": ".py",
   "mimetype": "text/x-python",
   "name": "python",
   "nbconvert_exporter": "python",
   "pygments_lexer": "ipython3",
   "version": "3.7.6"
  }
 },
 "nbformat": 4,
 "nbformat_minor": 4
}